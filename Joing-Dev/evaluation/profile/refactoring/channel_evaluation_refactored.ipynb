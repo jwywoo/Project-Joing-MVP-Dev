{
  "nbformat": 4,
  "nbformat_minor": 0,
  "metadata": {
    "colab": {
      "provenance": []
    },
    "kernelspec": {
      "name": "python3",
      "display_name": "Python 3"
    },
    "language_info": {
      "name": "python"
    }
  },
  "cells": [
    {
      "cell_type": "code",
      "execution_count": 1,
      "metadata": {
        "id": "xKJA58hQcVVm",
        "colab": {
          "base_uri": "https://localhost:8080/"
        },
        "outputId": "ecb7a71d-8bce-4da6-ac47-6ff52ec2b01e"
      },
      "outputs": [
        {
          "output_type": "stream",
          "name": "stdout",
          "text": [
            "Mounted at /content/drive\n"
          ]
        }
      ],
      "source": [
        "from google.colab import drive\n",
        "from google.colab import userdata\n",
        "drive.mount('/content/drive')"
      ]
    },
    {
      "cell_type": "markdown",
      "source": [
        "## Installation"
      ],
      "metadata": {
        "id": "tznoVt_9xTwk"
      }
    },
    {
      "cell_type": "code",
      "source": [
        "!pip install -qU google-api-python-client langchain-openai langchain langchainhub langchain-community"
      ],
      "metadata": {
        "colab": {
          "base_uri": "https://localhost:8080/"
        },
        "collapsed": true,
        "id": "NmIvBo1axTfF",
        "outputId": "80000b95-6369-448c-d71d-fd28bcaabf3b"
      },
      "execution_count": 9,
      "outputs": [
        {
          "output_type": "stream",
          "name": "stdout",
          "text": [
            "\u001b[2K   \u001b[90m━━━━━━━━━━━━━━━━━━━━━━━━━━━━━━━━━━━━━━━━\u001b[0m \u001b[32m50.4/50.4 kB\u001b[0m \u001b[31m2.8 MB/s\u001b[0m eta \u001b[36m0:00:00\u001b[0m\n",
            "\u001b[2K   \u001b[90m━━━━━━━━━━━━━━━━━━━━━━━━━━━━━━━━━━━━━━━━\u001b[0m \u001b[32m2.4/2.4 MB\u001b[0m \u001b[31m24.4 MB/s\u001b[0m eta \u001b[36m0:00:00\u001b[0m\n",
            "\u001b[2K   \u001b[90m━━━━━━━━━━━━━━━━━━━━━━━━━━━━━━━━━━━━━━━━\u001b[0m \u001b[32m409.3/409.3 kB\u001b[0m \u001b[31m16.1 MB/s\u001b[0m eta \u001b[36m0:00:00\u001b[0m\n",
            "\u001b[2K   \u001b[90m━━━━━━━━━━━━━━━━━━━━━━━━━━━━━━━━━━━━━━━━\u001b[0m \u001b[32m3.1/3.1 MB\u001b[0m \u001b[31m48.8 MB/s\u001b[0m eta \u001b[36m0:00:00\u001b[0m\n",
            "\u001b[2K   \u001b[90m━━━━━━━━━━━━━━━━━━━━━━━━━━━━━━━━━━━━━━━━\u001b[0m \u001b[32m1.2/1.2 MB\u001b[0m \u001b[31m38.5 MB/s\u001b[0m eta \u001b[36m0:00:00\u001b[0m\n",
            "\u001b[2K   \u001b[90m━━━━━━━━━━━━━━━━━━━━━━━━━━━━━━━━━━━━━━━━\u001b[0m \u001b[32m49.5/49.5 kB\u001b[0m \u001b[31m3.2 MB/s\u001b[0m eta \u001b[36m0:00:00\u001b[0m\n",
            "\u001b[?25h"
          ]
        }
      ]
    },
    {
      "cell_type": "code",
      "source": [
        "import googleapiclient.discovery\n",
        "\n",
        "def get_youtube_channel_thumbnails(api_key, channel_id):\n",
        "  youtube = googleapiclient.discovery.build('youtube', 'v3', developerKey=api_key)\n",
        "  channel_response = youtube.channels().list(\n",
        "      part='contentDetails',\n",
        "      id=channel_id\n",
        "  ).execute()\n",
        "  uploads_playlist_id = channel_response[\"items\"][0][\"contentDetails\"][\"relatedPlaylists\"][\"uploads\"]\n",
        "\n",
        "  # Getting Youtube Response\n",
        "  next_page_token = None\n",
        "  videos = []\n",
        "  playlist_response = youtube.playlistItems().list(\n",
        "      part='snippet',\n",
        "      playlistId=uploads_playlist_id,\n",
        "      maxResults=4,\n",
        "      pageToken=next_page_token\n",
        "  ).execute()\n",
        "\n",
        "  # Getting Info\n",
        "  for item in playlist_response[\"items\"]:\n",
        "    snippet = item[\"snippet\"]\n",
        "    # title\n",
        "    video_title = snippet[\"title\"]\n",
        "    # description\n",
        "    video_desc = snippet['description']\n",
        "    # thumbnails - urls\n",
        "    video_thumbnail_url = snippet['thumbnails']['standard']['url']\n",
        "    videos.append({\n",
        "        \"title\": video_title,\n",
        "        \"description\": video_desc,\n",
        "        \"thumbnail_url\": video_thumbnail_url\n",
        "    })\n",
        "\n",
        "  return videos"
      ],
      "metadata": {
        "id": "SugjvwIyxpEp"
      },
      "execution_count": 35,
      "outputs": []
    },
    {
      "cell_type": "code",
      "source": [
        "api_key = userdata.get('youtube_api_key_01')\n",
        "# 살색의 박감독: UCuypTxyCwP2QCxXHOUuibCg\n",
        "# 육식맨: UC0VR2v4TZeGcOrZHnmwbU_Q\n",
        "appropriate_videos = get_youtube_channel_thumbnails(api_key, \"UC0VR2v4TZeGcOrZHnmwbU_Q\")\n",
        "inappropriate_videos = get_youtube_channel_thumbnails(api_key, \"UCuypTxyCwP2QCxXHOUuibCg\")\n",
        "print(appropriate_videos)\n",
        "print(inappropriate_videos)"
      ],
      "metadata": {
        "colab": {
          "base_uri": "https://localhost:8080/"
        },
        "id": "nj6MJlw61MQM",
        "outputId": "4cae053f-dd7c-43ef-86e7-204830299a35"
      },
      "execution_count": 37,
      "outputs": [
        {
          "output_type": "stream",
          "name": "stdout",
          "text": [
            "[{'title': '시칠리아 내장 특집 : 낯선 버거에게서 모란시장의 향기가 난다', 'description': '시칠리아 3부작을 사랑해주신 시청자 여러분, 모두 고개 숙여 감사드립니다!\\n\\n🔽오늘 영상에 등장한 장소 지도 링크와 촬영도구🔽\\n✅ 브이로그 카메라 : https://link.coupang.com/a/bmCkbz\\n✅ 푸드 카메라 : https://link.coupang.com/a/bmCliz\\n✅ 동시녹음 보이스 레코더 : https://link.coupang.com/a/bKOfpo\\n✅ 후시녹음 나레이션 마이크 : https://link.coupang.com/a/bnDkq7\\n✅ 랩탑 : https://link.coupang.com/a/bmClTW\\n(이상 제휴 링크로 구매 시 수수료를 받아 채널 운영에 도움이 됩니다.)\\n\\n스푸파 내장 버거 Porta Carbone https://maps.app.goo.gl/SbXNN2NgaocR1fUU7\\n스푸파 아란치니 Bar Touring https://maps.app.goo.gl/4uYbRFZy5WZmUXgy6\\n이탈리아 푸드 매거진 만점 젤라토 Cappadonia Gelati https://maps.app.goo.gl/hRwczjJUjw4MunkF6\\n시칠리아 대표 에스프레소 바 Bar Del Corso https://maps.app.goo.gl/ysBxHjgXgM85c7zb8\\n가장 감동한 팔레르모 로컬 식당 Antichi Sapori Palermitani https://maps.app.goo.gl/rBWwhPA3b8iYZsun9\\n\\n\\n육식맨 (홈쿠킹&푸드트립) : https://www.youtube.com/@YOOXICMAN\\n잡식맨 (일상&라이브&쇼츠) : https://www.youtube.com/@JOBXICMAN\\n인스타그램 : https://www.instagram.com/yooxicman/\\n비즈니스 메일 : yooxicman@gmail.com\\n\\n[육식맨 YOOXICMAN 채널 소개]\\n고기 없이 못 사는 육식주의자를 위한 본격 육식 요리 채널!!!\\n평범한 아파트 가정집에서 평범하지 않은 고기 요리에 도전합니다!\\n\\n[육식맨 영상의 4대 목표]\\n◇ 참 보기 좋고 먹어 보고 싶은 육식\\n◇ 군더더기, 시간 낭비 없이 깔끔한 영상 편집\\n◇ 흥미로우면서 진실한 리액션\\n◇ 꽤 도움이 되며 부담스럽지 않은 요리 정보\\n\\n[BGM]\\n유튜브 저작권 해결되는 구독형 유료 음원 사이트 Artlist\\nhttps://artlist.io/Yooxicman-1309311\\n이 URL을 통해 구독하시면 2개월 추가 혜택을 받으실 수 있고, \\n저도 2개월 구독 연장 혜택을 받습니다.', 'thumbnail_url': 'https://i.ytimg.com/vi/389-KHALuxo/sddefault.jpg'}, {'title': \"안성재 셰프님의 '모수 홍콩' 미식 탐방기 (with 홍석천)\", 'description': '흑백요리사의 히어로, 국내 유일 미쉐린 3스타 안성재 셰프님의 현재 유일한 레스토랑,\\n모수 홍콩 MOSU HONGKONG에 다녀왔습니다.\\n\\n🔽오늘 영상에 등장한 장소 지도 링크와 촬영도구🔽\\n✅ 브이로그 카메라 : https://link.coupang.com/a/bmCkbz\\n✅ 푸드 카메라 : https://link.coupang.com/a/bmCliz\\n✅ 동시녹음 보이스 레코더 : https://link.coupang.com/a/bKOfpo\\n✅ 후시녹음 나레이션 마이크 : https://link.coupang.com/a/bnDkq7\\n✅ 랩탑 : https://link.coupang.com/a/bmClTW\\n(이상 제휴 링크로 구매 시 수수료를 받아 채널 운영에 도움이 됩니다.)\\n\\n모수 홍콩 https://maps.app.goo.gl/YbnnoFwGEwP9ofiQ6\\n\\n육식맨 (홈쿠킹&푸드트립) : https://www.youtube.com/@YOOXICMAN\\n잡식맨 (일상&라이브&쇼츠) : https://www.youtube.com/@JOBXICMAN\\n인스타그램 : https://www.instagram.com/yooxicman/\\n비즈니스 메일 : yooxicman@gmail.com\\n\\n[육식맨 YOOXICMAN 채널 소개]\\n고기 없이 못 사는 육식주의자를 위한 본격 육식 요리 채널!!!\\n평범한 아파트 가정집에서 평범하지 않은 고기 요리에 도전합니다!\\n\\n[육식맨 영상의 4대 목표]\\n◇ 참 보기 좋고 먹어 보고 싶은 육식\\n◇ 군더더기, 시간 낭비 없이 깔끔한 영상 편집\\n◇ 흥미로우면서 진실한 리액션\\n◇ 꽤 도움이 되며 부담스럽지 않은 요리 정보\\n\\n[BGM]\\n유튜브 저작권 해결되는 구독형 유료 음원 사이트 Artlist\\nhttps://artlist.io/Yooxicman-1309311\\n이 URL을 통해 구독하시면 2개월 추가 혜택을 받으실 수 있고, \\n저도 2개월 구독 연장 혜택을 받습니다.', 'thumbnail_url': 'https://i.ytimg.com/vi/aMKPGl9D_0o/sddefault.jpg'}, {'title': '시칠리아 맛 탐방 : 한 도시에 한 음식, 신개념 도장깨기식 푸드 트립 (구글 평점 4.5 이상만)', 'description': '🔽오늘 영상에 등장한 장소 지도 링크와 촬영도구🔽\\n✅ 브이로그 카메라 : https://link.coupang.com/a/bmCkbz\\n✅ 푸드 카메라 : https://link.coupang.com/a/bmCliz\\n✅ 동시녹음 보이스 레코더 : https://link.coupang.com/a/bKOfpo\\n✅ 후시녹음 나레이션 마이크 : https://link.coupang.com/a/bnDkq7\\n✅ 랩탑 : https://link.coupang.com/a/bmClTW\\n(이상 제휴 링크로 구매 시 수수료를 받아 채널 운영에 도움이 됩니다.)\\n\\n구글 평점 4.9 파스타 Pasta Fresca da Sabrina https://maps.app.goo.gl/iA4rtiaEGZBcw5Lz8\\n살면서 먹은 가장 맛있는 디저트 Antica Dolceria Bonajuto https://maps.app.goo.gl/9jfMPWz2MtxJFvmd9\\n모디카의 가장 큰 대형 마트 CONAD SUPERSTORE https://maps.app.goo.gl/STRg7iztpfP9rB4ZA\\n구글 평점 1등 피스타치오 전문점 Pasticceria I Maestri del Pistacchio https://maps.app.goo.gl/NGKDC3p5FTgfYDD99\\n피스타치오 스테이크 레스토랑 Pepe Rosa https://maps.app.goo.gl/T5eKMYtzh8UXE43d7\\n에트나 화산 케이블카 주차장 Etna Cable Car https://maps.app.goo.gl/G338D6uphxEav3Gp9\\n해발 2500m 파니니 까페 Etna Cable Car Bar 2500m https://maps.app.goo.gl/A3yUH3qH7E9pon4e8\\n카타니아 로컬 정육식당 Macelleria Tondicello https://maps.app.goo.gl/bJAABmc8gwxQgtTE6\\n\\n육식맨 (홈쿠킹&푸드트립) : https://www.youtube.com/@YOOXICMAN\\n잡식맨 (일상&라이브&쇼츠) : https://www.youtube.com/@JOBXICMAN\\n인스타그램 : https://www.instagram.com/yooxicman/\\n비즈니스 메일 : yooxicman@gmail.com\\n\\n[육식맨 YOOXICMAN 채널 소개]\\n고기 없이 못 사는 육식주의자를 위한 본격 육식 요리 채널!!!\\n평범한 아파트 가정집에서 평범하지 않은 고기 요리에 도전합니다!\\n\\n[육식맨 영상의 4대 목표]\\n◇ 참 보기 좋고 먹어 보고 싶은 육식\\n◇ 군더더기, 시간 낭비 없이 깔끔한 영상 편집\\n◇ 흥미로우면서 진실한 리액션\\n◇ 꽤 도움이 되며 부담스럽지 않은 요리 정보\\n\\n[BGM]\\n유튜브 저작권 해결되는 구독형 유료 음원 사이트 Artlist\\nhttps://artlist.io/Yooxicman-1309311\\n이 URL을 통해 구독하시면 2개월 추가 혜택을 받으실 수 있고, \\n저도 2개월 구독 연장 혜택을 받습니다.', 'thumbnail_url': 'https://i.ytimg.com/vi/0p34RJc6AKM/sddefault.jpg'}, {'title': '시칠리아 특집 : 백종원과 대부가 사랑한 맛피아의 섬', 'description': '이 영상에는 퍼플렉시티의 광고가 포함되어 있습니다.\\nSKT 사용자는 퍼플렉시티 프로 1년 무료 구독이 가능합니다. 꼭 신청하세요!\\nhttps://abit.ly/yooxicman (~10/31(목) 프로모션 종료, 29만원 상당)\\n\\n스푸파 소곱창 구이 스티기올라 Da Jolly https://maps.app.goo.gl/vpNGkdhE5fXp7Y3x6\\n시칠리아 전통 피자 스핀치오네 Panificio Graziano https://maps.app.goo.gl/a6RcdoNmLJ31C3CP8\\n카타니아 공항 남쪽 보석같은 국도 빵집 Pane Condito https://maps.app.goo.gl/dJt59eg9t4rHtEdT6\\n시라쿠사 전통 시장 Antico Mercato di Ortigia https://maps.app.goo.gl/wzeLSYbCME7cgTq19\\n세계 최고의 샌드위치 Caseificio Borderi https://maps.app.goo.gl/mooVTTx7mPPGYbSn9 (무조건 6번 셰프 스페셜 파니니 주문하세요)\\n\\n육식맨 (홈쿠킹&푸드트립) : https://www.youtube.com/@YOOXICMAN\\n잡식맨 (일상&라이브&쇼츠) : https://www.youtube.com/@JOBXICMAN\\n인스타그램 : https://www.instagram.com/yooxicman/\\n비즈니스 메일 : yooxicman@gmail.com\\n\\n[육식맨 YOOXICMAN 채널 소개]\\n고기 없이 못 사는 육식주의자를 위한 본격 육식 요리 채널!!!\\n평범한 아파트 가정집에서 평범하지 않은 고기 요리에 도전합니다!\\n\\n[육식맨 영상의 4대 목표]\\n◇ 참 보기 좋고 먹어 보고 싶은 육식\\n◇ 군더더기, 시간 낭비 없이 깔끔한 영상 편집\\n◇ 흥미로우면서 진실한 리액션\\n◇ 꽤 도움이 되며 부담스럽지 않은 요리 정보', 'thumbnail_url': 'https://i.ytimg.com/vi/dBPThakuF08/sddefault.jpg'}]\n",
            "[{'title': '한번 시작하면 멈출수가 없다는 흑갸루누나의 노빠꾸 인터뷰..ㅎㄷㄷ #쎈언니 #갸루 #일본갸루', 'description': '이 영상의 뜨거운 뒷이야기는 이쪽! (Watch more..)\\n👉https://x.com/parkpd_video/status/1857247791057350799\\n\\n그녀들의 뜨거운모습 공개중인 박감독 패트리온👄\\n👉https://twitter.com/parkpd_video\\n(The story behind this video is...)\\n\\n살색의 박감독 패트리온 수위는?\\n✅https://tokyo-honjanam.tistory.com/57\\n\\n박감독의 모든것..(all about director park)\\n🍑https://linktr.ee/parkpd\\n\\n【패트리온 모바일 재생 안되는경우 해결책】\\n1. 어플을 최신으로 업데이트\\n2. 1의 방법으로 안된다면 패트리온 어플을 지우고, 유튜브 고정댓글에서 패트리온 링크로 넘어갈때  “패트리온 앱을 다운로드 하시겠습니까?” 에서 “아니오 웹으로 감상“을 선택후, 웹으로 패트리온 로그인 하시면 모바일에서 유튜브 와 패트리온을 자유롭게 오가며 컨텐츠를 즐길수 있습니다.\\n\\n＝＝＝＝＝＝\\n\\n유튜브후원 (멤버십 가입)\\n📌https://www.youtube.com/channel/UCuypTxyCwP2QCxXHOUuibCg/join\\n\\n유튜브멤버십 영상리스트\\n📌https://www.youtube.com/playlist?list=UUMOuypTxyCwP2QCxXHOUuibCg\\n\\n🎥살색의 박감독 전체관람가 채널 (순한맛)\\nhttps://www.youtube.com/channel/UC5Q8jZ_FRrRZJfNJ3Oat0AQ\\n\\n📚박감독의 일본여자도감 블로그\\nhttps://tokyo-honjanam.tistory.com\\n\\n・메일문의： tokyonamja@gmail.com\\n\\n＝＝＝＝＝＝\\n\\n살색의 박감독 채널은 구독자분들의 후원, 멤버쉽수익으로 운영되고있습니다.\\n여러분의 후원은 더 좋은 컨텐츠 제작에 사용됩니다.', 'thumbnail_url': 'https://i.ytimg.com/vi/kqsqJ0H0S8Y/sddefault.jpg'}, {'title': '우리집에온 흑갸루누나.. 거침없이 팬티벗어서 보여주는데..ㅎㄷㄷ #쎈언니 #갸루 #일본갸루', 'description': '이 영상의 뜨거운 뒷이야기는 이쪽! (Watch more..)\\n👉https://x.com/parkpd_video/status/1855887701855367335\\n\\n그녀들의 뜨거운모습 공개중인 박감독 패트리온👄\\n👉https://twitter.com/parkpd_video\\n(The story behind this video is...)\\n\\n살색의 박감독 패트리온 수위는?\\n✅https://tokyo-honjanam.tistory.com/57\\n\\n박감독의 모든것..(all about director park)\\n🍑https://linktr.ee/parkpd\\n\\n【패트리온 모바일 재생 안되는경우 해결책】\\n1. 어플을 최신으로 업데이트\\n2. 1의 방법으로 안된다면 패트리온 어플을 지우고, 유튜브 고정댓글에서 패트리온 링크로 넘어갈때  “패트리온 앱을 다운로드 하시겠습니까?” 에서 “아니오 웹으로 감상“을 선택후, 웹으로 패트리온 로그인 하시면 모바일에서 유튜브 와 패트리온을 자유롭게 오가며 컨텐츠를 즐길수 있습니다.\\n\\n＝＝＝＝＝＝\\n\\n유튜브후원 (멤버십 가입)\\n📌https://www.youtube.com/channel/UCuypTxyCwP2QCxXHOUuibCg/join\\n\\n유튜브멤버십 영상리스트\\n📌https://www.youtube.com/playlist?list=UUMOuypTxyCwP2QCxXHOUuibCg\\n\\n🎥살색의 박감독 전체관람가 채널 (순한맛)\\nhttps://www.youtube.com/channel/UC5Q8jZ_FRrRZJfNJ3Oat0AQ\\n\\n📚박감독의 일본여자도감 블로그\\nhttps://tokyo-honjanam.tistory.com\\n\\n・메일문의： tokyonamja@gmail.com\\n\\n＝＝＝＝＝＝\\n\\n살색의 박감독 채널은 구독자분들의 후원, 멤버쉽수익으로 운영되고있습니다.\\n여러분의 후원은 더 좋은 컨텐츠 제작에 사용됩니다.', 'thumbnail_url': 'https://i.ytimg.com/vi/LQa6Xx5bZHY/sddefault.jpg'}, {'title': '노브라 일본민박집에 가봤는데 웰컴속옷이라며 스타킹을 벗어주는 여관 사장님.. (예고편)', 'description': '이 영상의 뜨거운 뒷이야기는 이쪽! (Watch more..)\\n👉https://x.com/parkpd_video/status/1854709761906032916\\n\\n그녀들의 뜨거운모습 공개중인 박감독 패트리온👄\\n👉https://twitter.com/parkpd_video\\n(The story behind this video is...)\\n\\n살색의 박감독 패트리온 수위는?\\n✅https://tokyo-honjanam.tistory.com/57\\n\\n박감독의 모든것..(all about director park)\\n🍑https://linktr.ee/parkpd\\n\\n【패트리온 모바일 재생 안되는경우 해결책】\\n1. 어플을 최신으로 업데이트\\n2. 1의 방법으로 안된다면 패트리온 어플을 지우고, 유튜브 고정댓글에서 패트리온 링크로 넘어갈때  “패트리온 앱을 다운로드 하시겠습니까?” 에서 “아니오 웹으로 감상“을 선택후, 웹으로 패트리온 로그인 하시면 모바일에서 유튜브 와 패트리온을 자유롭게 오가며 컨텐츠를 즐길수 있습니다.\\n\\n＝＝＝＝＝＝\\n\\n유튜브후원 (멤버십 가입)\\n📌https://www.youtube.com/channel/UCuypTxyCwP2QCxXHOUuibCg/join\\n\\n유튜브멤버십 영상리스트\\n📌https://www.youtube.com/playlist?list=UUMOuypTxyCwP2QCxXHOUuibCg\\n\\n🎥살색의 박감독 전체관람가 채널 (순한맛)\\nhttps://www.youtube.com/channel/UC5Q8jZ_FRrRZJfNJ3Oat0AQ\\n\\n📚박감독의 일본여자도감 블로그\\nhttps://tokyo-honjanam.tistory.com\\n\\n・메일문의： tokyonamja@gmail.com\\n\\n＝＝＝＝＝＝\\n\\n살색의 박감독 채널은 구독자분들의 후원, 멤버쉽수익으로 운영되고있습니다.\\n여러분의 후원은 더 좋은 컨텐츠 제작에 사용됩니다.', 'thumbnail_url': 'https://i.ytimg.com/vi/304B1MQfBIw/sddefault.jpg'}, {'title': '일본의 흔한 민박집', 'description': '', 'thumbnail_url': 'https://i.ytimg.com/vi/ppjN8aACDfY/sddefault.jpg'}]\n"
          ]
        }
      ]
    },
    {
      "cell_type": "code",
      "source": [
        "# Seperating title, description and imgae urls\n",
        "appropriate_text_description = []\n",
        "appropriate_image_urls = []\n",
        "for video in appropriate_videos:\n",
        "  appropriate_text_description.append({\"title\": video['title'], \"description\":video['description']})\n",
        "  appropriate_image_urls.append(video[\"thumbnail_url\"])\n",
        "\n",
        "inappropriate_text_description = []\n",
        "inappropriate_image_urls = []\n",
        "for video in inappropriate_videos:\n",
        "  inappropriate_text_description.append({\"title\": video['title'], \"description\":video['description']})\n",
        "  inappropriate_image_urls.append(video[\"thumbnail_url\"])"
      ],
      "metadata": {
        "id": "NlWc-4yS3Jq6"
      },
      "execution_count": 38,
      "outputs": []
    },
    {
      "cell_type": "markdown",
      "source": [
        "## Text Evaluation"
      ],
      "metadata": {
        "id": "7p3bnAXdjrEN"
      }
    },
    {
      "cell_type": "code",
      "source": [
        "# Text: title & description\n",
        "import os\n",
        "import json\n",
        "\n",
        "from langchain_openai import ChatOpenAI\n",
        "from langchain_core.prompts import ChatPromptTemplate\n",
        "from langchain_core.output_parsers import StrOutputParser\n",
        "\n",
        "os.environ['OPENAI_API_KEY'] = userdata.get('openAI')\n",
        "\n",
        "text_evaluation_prompt = \"\"\"\n",
        "You are a social media expert, specialized in detecting innapropriate, harmful or dangerous Youtube Channel.\n",
        "You'll be given a list of four recent videos of a Youtube channel.\n",
        "Each element of the list contains title and description about the video.\n",
        "1. \"title\": \"title of the video\",\n",
        "2. \"description\": \"description of the video\"\n",
        "Based on the given information you need to judge whether the Youtube channel posted the given information is appropriate or not.\n",
        "\n",
        "After the evaluation you only generate as follow:\n",
        "{{\n",
        "  \"appropriate\":\"true or false\"\n",
        "  \"reason\":\"empty if tis appropriate, explain why otherwise in Korean and one sentence\"\n",
        "}}\n",
        "\n",
        "Here is the list of videos:\n",
        "{list}\n",
        "\"\"\"\n",
        "\n",
        "def recent_video_text_evaluation(description):\n",
        "  llm = ChatOpenAI(model='gpt-4o-mini', temperature=0.7)\n",
        "  prompt_template = ChatPromptTemplate.from_messages(\n",
        "    [(\"system\", text_evaluation_prompt), (\"user\", \"{list}\")]\n",
        "  )\n",
        "  chain = prompt_template | llm | StrOutputParser()\n",
        "  return json.loads(chain.invoke({\"list\": description}))"
      ],
      "metadata": {
        "id": "bw5HF30sVBQn"
      },
      "execution_count": 53,
      "outputs": []
    },
    {
      "cell_type": "code",
      "source": [
        "print(recent_video_text_evaluation(appropriate_text_description))\n",
        "print(recent_video_text_evaluation(inappropriate_text_description))"
      ],
      "metadata": {
        "colab": {
          "base_uri": "https://localhost:8080/"
        },
        "id": "8gcxmwr5dFrL",
        "outputId": "7b13ca95-6689-4339-a988-83c2e4bfcdb5"
      },
      "execution_count": 54,
      "outputs": [
        {
          "output_type": "stream",
          "name": "stdout",
          "text": [
            "{'appropriate': 'true', 'reason': ''}\n",
            "{'appropriate': 'false', 'reason': '이 채널의 콘텐츠는 성적으로 노골적이며 부적절한 내용을 포함하고 있어, 시청자에게 해롭다고 판단됩니다.'}\n"
          ]
        }
      ]
    },
    {
      "cell_type": "markdown",
      "source": [
        "## Image Evaluation"
      ],
      "metadata": {
        "id": "YMZpUGC6mB-0"
      }
    },
    {
      "cell_type": "code",
      "source": [
        "from PIL import Image\n",
        "import requests\n",
        "from io import BytesIO\n",
        "\n",
        "response = requests.get(appropriate_image_urls[0])\n",
        "img = Image.open(BytesIO(response.content))"
      ],
      "metadata": {
        "colab": {
          "base_uri": "https://localhost:8080/"
        },
        "id": "DZ7y6iH5i7ug",
        "outputId": "4920eae5-80a7-4572-dc72-d9970362727b"
      },
      "execution_count": 57,
      "outputs": [
        {
          "output_type": "stream",
          "name": "stdout",
          "text": [
            "<PIL.JpegImagePlugin.JpegImageFile image mode=RGB size=640x480 at 0x7AD2208F9570>\n"
          ]
        }
      ]
    }
  ]
}