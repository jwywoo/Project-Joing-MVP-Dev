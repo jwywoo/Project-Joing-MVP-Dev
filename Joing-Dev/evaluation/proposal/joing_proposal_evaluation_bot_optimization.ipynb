{
  "nbformat": 4,
  "nbformat_minor": 0,
  "metadata": {
    "colab": {
      "provenance": []
    },
    "kernelspec": {
      "name": "python3",
      "display_name": "Python 3"
    },
    "language_info": {
      "name": "python"
    }
  },
  "cells": [
    {
      "cell_type": "markdown",
      "source": [
        "## Colab Google Imports"
      ],
      "metadata": {
        "id": "-j8tMUmMUu9C"
      }
    },
    {
      "cell_type": "code",
      "source": [
        "from google.colab import drive\n",
        "from google.colab import userdata\n",
        "drive.mount('/content/drive')"
      ],
      "metadata": {
        "colab": {
          "base_uri": "https://localhost:8080/"
        },
        "id": "tcki82ZiUuvR",
        "outputId": "d88a08b6-c28f-4760-ba0d-726bbdeb5cbb"
      },
      "execution_count": 1,
      "outputs": [
        {
          "output_type": "stream",
          "name": "stdout",
          "text": [
            "Mounted at /content/drive\n"
          ]
        }
      ]
    },
    {
      "cell_type": "markdown",
      "source": [
        "## Installation"
      ],
      "metadata": {
        "id": "P7_LpzjcU42J"
      }
    },
    {
      "cell_type": "code",
      "execution_count": 2,
      "metadata": {
        "colab": {
          "base_uri": "https://localhost:8080/"
        },
        "id": "GpIk2CP1UfAX",
        "outputId": "9e859908-9c12-4ed7-9bf4-d14522585a4e"
      },
      "outputs": [
        {
          "output_type": "stream",
          "name": "stdout",
          "text": [
            "\u001b[2K     \u001b[90m━━━━━━━━━━━━━━━━━━━━━━━━━━━━━━━━━━━━━━━━\u001b[0m \u001b[32m50.6/50.6 kB\u001b[0m \u001b[31m3.2 MB/s\u001b[0m eta \u001b[36m0:00:00\u001b[0m\n",
            "\u001b[2K   \u001b[90m━━━━━━━━━━━━━━━━━━━━━━━━━━━━━━━━━━━━━━━━\u001b[0m \u001b[32m1.2/1.2 MB\u001b[0m \u001b[31m28.9 MB/s\u001b[0m eta \u001b[36m0:00:00\u001b[0m\n",
            "\u001b[2K   \u001b[90m━━━━━━━━━━━━━━━━━━━━━━━━━━━━━━━━━━━━━━━━\u001b[0m \u001b[32m49.9/49.9 kB\u001b[0m \u001b[31m3.3 MB/s\u001b[0m eta \u001b[36m0:00:00\u001b[0m\n",
            "\u001b[2K   \u001b[90m━━━━━━━━━━━━━━━━━━━━━━━━━━━━━━━━━━━━━━━━\u001b[0m \u001b[32m1.0/1.0 MB\u001b[0m \u001b[31m41.7 MB/s\u001b[0m eta \u001b[36m0:00:00\u001b[0m\n",
            "\u001b[2K   \u001b[90m━━━━━━━━━━━━━━━━━━━━━━━━━━━━━━━━━━━━━━━━\u001b[0m \u001b[32m2.4/2.4 MB\u001b[0m \u001b[31m48.6 MB/s\u001b[0m eta \u001b[36m0:00:00\u001b[0m\n",
            "\u001b[2K   \u001b[90m━━━━━━━━━━━━━━━━━━━━━━━━━━━━━━━━━━━━━━━━\u001b[0m \u001b[32m408.0/408.0 kB\u001b[0m \u001b[31m27.1 MB/s\u001b[0m eta \u001b[36m0:00:00\u001b[0m\n",
            "\u001b[2K   \u001b[90m━━━━━━━━━━━━━━━━━━━━━━━━━━━━━━━━━━━━━━━━\u001b[0m \u001b[32m296.9/296.9 kB\u001b[0m \u001b[31m18.8 MB/s\u001b[0m eta \u001b[36m0:00:00\u001b[0m\n",
            "\u001b[2K   \u001b[90m━━━━━━━━━━━━━━━━━━━━━━━━━━━━━━━━━━━━━━━━\u001b[0m \u001b[32m386.9/386.9 kB\u001b[0m \u001b[31m21.3 MB/s\u001b[0m eta \u001b[36m0:00:00\u001b[0m\n",
            "\u001b[2K   \u001b[90m━━━━━━━━━━━━━━━━━━━━━━━━━━━━━━━━━━━━━━━━\u001b[0m \u001b[32m76.4/76.4 kB\u001b[0m \u001b[31m4.9 MB/s\u001b[0m eta \u001b[36m0:00:00\u001b[0m\n",
            "\u001b[2K   \u001b[90m━━━━━━━━━━━━━━━━━━━━━━━━━━━━━━━━━━━━━━━━\u001b[0m \u001b[32m78.0/78.0 kB\u001b[0m \u001b[31m5.0 MB/s\u001b[0m eta \u001b[36m0:00:00\u001b[0m\n",
            "\u001b[2K   \u001b[90m━━━━━━━━━━━━━━━━━━━━━━━━━━━━━━━━━━━━━━━━\u001b[0m \u001b[32m325.2/325.2 kB\u001b[0m \u001b[31m17.9 MB/s\u001b[0m eta \u001b[36m0:00:00\u001b[0m\n",
            "\u001b[2K   \u001b[90m━━━━━━━━━━━━━━━━━━━━━━━━━━━━━━━━━━━━━━━━\u001b[0m \u001b[32m49.5/49.5 kB\u001b[0m \u001b[31m2.6 MB/s\u001b[0m eta \u001b[36m0:00:00\u001b[0m\n",
            "\u001b[2K   \u001b[90m━━━━━━━━━━━━━━━━━━━━━━━━━━━━━━━━━━━━━━━━\u001b[0m \u001b[32m144.5/144.5 kB\u001b[0m \u001b[31m10.1 MB/s\u001b[0m eta \u001b[36m0:00:00\u001b[0m\n",
            "\u001b[2K   \u001b[90m━━━━━━━━━━━━━━━━━━━━━━━━━━━━━━━━━━━━━━━━\u001b[0m \u001b[32m54.5/54.5 kB\u001b[0m \u001b[31m3.7 MB/s\u001b[0m eta \u001b[36m0:00:00\u001b[0m\n",
            "\u001b[2K   \u001b[90m━━━━━━━━━━━━━━━━━━━━━━━━━━━━━━━━━━━━━━━━\u001b[0m \u001b[32m58.3/58.3 kB\u001b[0m \u001b[31m4.5 MB/s\u001b[0m eta \u001b[36m0:00:00\u001b[0m\n",
            "\u001b[?25h"
          ]
        }
      ],
      "source": [
        "!pip install -qU tiktoken langchain-openai langchain langchainhub langchain-community"
      ]
    },
    {
      "cell_type": "markdown",
      "source": [
        "## Proposal"
      ],
      "metadata": {
        "id": "Xb5elGG3Xg0X"
      }
    },
    {
      "cell_type": "code",
      "source": [
        "regular_proposal = \"\"\"\n",
        "title: 유쾌한 두 사람의 수다와 함께하는 감성 토크쇼 – 이영지와 오해원의 진솔한 이야기\n",
        "[SEP]\n",
        "media_type: long-form\n",
        "[SEP]\n",
        "content: 이영지와 오해원이 함께하는 이번 에피소드는 두 사람의 다양한 이야기가 펼쳐지는 감성 토크쇼입니다. 어린 시절의 추억부터 최근의 음악적 고민, 예능 활동에 대한 생각을 나누며, 서로에 대한 응원과 격려를 아끼지 않는 모습이 담깁니다. 특히 해원은 프로그램에 출연하게 된 특별한 이유를 직접 언급하며, 팬들과의 소통에 대한 진솔한 생각도 공유합니다. 이 외에도 위스키와 초콜릿을 즐기며 서로의 취향을 나누는 장면, 친구 관계와 연애 경험을 통해 서로의 마음을 이해하고 깊어지는 관계를 보여주는 장면 등이 포함됩니다. 마지막에는 두 사람의 유쾌한 노래 퍼포먼스로 영상이 마무리되며, 시청자들에게 따뜻한 감동을 선사할 것입니다.\n",
        "[SEP]\n",
        "additional features:\n",
        "- 초대 배경: 아늑한 바에서의 촬영으로, 편안하고 친근한 분위기 연출\n",
        "- 다양한 음악 삽입: 대화 중 언급되는 걸그룹 노래 및 해원의 신곡을 적절히 삽입하여 생동감 있는 편집\n",
        "- 시청자 참여 코너: 팬들이 사전에 궁금한 질문을 보내면, 그에 답하는 코너를 마련해 팬들과의 소통 강화\n",
        "- 예능 편집 요소: 시청자들이 웃을 수 있도록 편집에 재미있는 효과 추가\n",
        "\"\"\""
      ],
      "metadata": {
        "id": "UFRyqJE-YEu6"
      },
      "execution_count": 3,
      "outputs": []
    },
    {
      "cell_type": "code",
      "source": [
        "wrong_proposal = \"\"\"\n",
        "title: 이영지와 오해원의 진솔한 이야기\n",
        "[SEP]\n",
        "media_type: short-form\n",
        "[SEP]\n",
        "content: 이영지와 오해원이 함께하는 이번 에피소드는 두 사람의 다양한 이야기가 펼쳐지는 감성 토크쇼입니다.\n",
        "[SEP]\n",
        "additional features: None\n",
        "\"\"\""
      ],
      "metadata": {
        "id": "03aV_VZxXiU6"
      },
      "execution_count": 4,
      "outputs": []
    },
    {
      "cell_type": "code",
      "source": [
        "violated = \"\"\"\n",
        "title: 카페에서 노브라로 팬티벗어서 보여주는 은퇴AV여배우 일본여사친… カフェでパンツレビュー Pants review at a cafe\n",
        "[SEP]\n",
        "media type: long-form\n",
        "[SEP]\n",
        "content : 이 영상은 은퇴한 AV 여배우가 자신의 일상과 속옷에 대해 솔직하게 이야기하는 독특한 토크쇼 콘셉트로, 여배우는 카페에서 편안한 분위기 속에 최근 근황과 자신만의 매력을 시청자와 공유합니다. 대화는 자연스럽고 친근하게 진행되며, 여배우는 자신이 입고 있던 속옷을 꺼내 직접 리뷰하고 이후에는 노브라, 노팬티 상태로 인터뷰를 이어갑니다. 또한, 팬들에게 영상 속 속옷을 나눠주는 이벤트를 설명하며, 시청자와의 친밀한 상호작용을 유도합니다.\n",
        "[SEP]\n",
        "additional features:\n",
        "관객 참여 이벤트: 시청자들이 영상 속 속옷을 받을 수 있는 이벤트를 추가하여 참여도를 높입니다.\n",
        "편안한 촬영 장소: 카페와 같은 일상적이고 친근한 공간에서 촬영하여 대화의 자연스러움을 더합니다.\n",
        "라이프스타일 포커스: 배우의 일상과 경험을 주제로 하여, 과거 경력보다 현재의 매력에 중점을 둡니다.\n",
        "이중 언어 자막: 일본어와 영어 자막을 추가하여 글로벌 시청자층에게 다가갑니다.\n",
        "\n",
        "\"\"\""
      ],
      "metadata": {
        "id": "ltePpPjgrcyZ"
      },
      "execution_count": 5,
      "outputs": []
    },
    {
      "cell_type": "markdown",
      "source": [
        "## First Evaluation: Volume\n"
      ],
      "metadata": {
        "id": "otOjdmDdU881"
      }
    },
    {
      "cell_type": "code",
      "source": [
        "import tiktoken\n",
        "def volume_evaluation(proposal):\n",
        "  print(\"volume check!\")\n",
        "  tokenizer = tiktoken.encoding_for_model(\"gpt-4o-mini\")\n",
        "  print(len(tokenizer.encode(proposal)))\n",
        "  return (len(tokenizer.encode(proposal))) > 200"
      ],
      "metadata": {
        "id": "yPMfZOCvVe30"
      },
      "execution_count": 6,
      "outputs": []
    },
    {
      "cell_type": "markdown",
      "source": [
        "## Testing: Volume"
      ],
      "metadata": {
        "id": "04vCLy_QXypD"
      }
    },
    {
      "cell_type": "code",
      "source": [
        "print(volume_evaluation(violated))"
      ],
      "metadata": {
        "colab": {
          "base_uri": "https://localhost:8080/"
        },
        "id": "nBiCYznrX1wF",
        "outputId": "f38d4314-22a6-436d-89cc-2fc5198680f2"
      },
      "execution_count": 11,
      "outputs": [
        {
          "output_type": "stream",
          "name": "stdout",
          "text": [
            "volume check!\n",
            "337\n",
            "True\n"
          ]
        }
      ]
    },
    {
      "cell_type": "markdown",
      "source": [
        "## Second Evaluation: Content\n"
      ],
      "metadata": {
        "id": "ztO8tuj1VZru"
      }
    },
    {
      "cell_type": "code",
      "source": [
        "import os\n",
        "import json\n",
        "\n",
        "from langchain_openai import ChatOpenAI\n",
        "from langchain_core.prompts import ChatPromptTemplate\n",
        "from langchain_core.output_parsers import StrOutputParser\n",
        "\n",
        "os.environ['OPENAI_API_KEY'] = userdata.get('openAI')\n",
        "\n",
        "content_template = \"\"\"\n",
        "You are a Youtube expert specialized in evaluating a quality of proposal to create a content on Youtube or any social media.\n",
        "You are going to evaluate a proposal for a video and here is how you are going to evaluate it.\n",
        "\n",
        "The given proposal is in Korean and it contains the following:\n",
        "1. title: Title of the content\n",
        "2. content: Detailed explanation about the idea behind and why this content can be successful, as the plan to film the content\n",
        "3. media_type: Whether the content is going to be short-form or long-form content\n",
        "4. Score: If there is a number, you are re-evaluating, and if it's zero, you haven't evaluated yet.\n",
        "5. additional_features: Extra features about the content. That's in a Key-Value pair.\n",
        "\n",
        "Here are the steps that you must follow to evaluate the proposal.\n",
        "For each step, evaluate by 0.1 point and focus especially on the areas where the proposal lacks clarity.\n",
        "\n",
        "Step1 Message\n",
        "Based on the title and content, try to find a message this proposal is about.\n",
        "Grade this part between 0.00 ~ 3.00 points.\n",
        "\n",
        "Step2 Target\n",
        "Based on the title, content, and additional_features try to find the target audience of this proposal.\n",
        "Grade this part between 0.00 ~ 3.00 points.\n",
        "\n",
        "Step3 Relevance\n",
        "Based on the message and target you found from previous steps evaluate the relevance between the message, target audience, and the proposal itself.\n",
        "Evaluate every component of this proposal corrleated.\n",
        "Grade this part between 0.00 ~ 4.00 points.\n",
        "\n",
        "After the evaluation, you must generate the result as follows. Don't generate any other text besides the result.\n",
        "{{\n",
        "  \"message\": \"points from the step1\",\n",
        "  \"target\": \"points from the step2\",\n",
        "  \"relevance\": \"points from the step3\"\n",
        "}}\n",
        "\n",
        "\n",
        "\n",
        "Here is the proposal:\n",
        "{proposal}\n",
        "\"\"\"\n",
        "\n",
        "# Step3 Relevance: the proposal must be related to target audience.\n",
        "def content_evaluation(proposal):\n",
        "  print(\"content check!\")\n",
        "  llm = ChatOpenAI(model='gpt-4o-mini', temperature=0.7)\n",
        "  prompt_template = ChatPromptTemplate.from_messages(\n",
        "    [(\"system\", content_template), (\"user\", \"{proposal}\")]\n",
        "  )\n",
        "  chain = prompt_template | llm | StrOutputParser()\n",
        "  return json.loads(chain.invoke({\"proposal\": proposal}))"
      ],
      "metadata": {
        "id": "j1WGO8WKWWDN"
      },
      "execution_count": 52,
      "outputs": []
    },
    {
      "cell_type": "markdown",
      "source": [
        "## Testing: 2nd Evaluation"
      ],
      "metadata": {
        "id": "eUqwcT-jV9QK"
      }
    },
    {
      "cell_type": "code",
      "source": [
        "result = content_evaluation(wrong_proposal)\n",
        "print(result)"
      ],
      "metadata": {
        "colab": {
          "base_uri": "https://localhost:8080/"
        },
        "id": "EFhdqPsXV8y2",
        "outputId": "4f596db8-058c-4a18-eccc-1d551e8511ed"
      },
      "execution_count": 55,
      "outputs": [
        {
          "output_type": "stream",
          "name": "stdout",
          "text": [
            "content check!\n",
            "{'message': '1.5', 'target': '1.0', 'relevance': '2.0'}\n"
          ]
        }
      ]
    },
    {
      "cell_type": "markdown",
      "source": [
        "## Third Evaluation: Regulation"
      ],
      "metadata": {
        "id": "NmonYykYVaab"
      }
    },
    {
      "cell_type": "code",
      "source": [
        "import os\n",
        "\n",
        "from langchain_openai import ChatOpenAI\n",
        "from langchain_core.prompts import ChatPromptTemplate\n",
        "from langchain_core.output_parsers import StrOutputParser\n",
        "\n",
        "os.environ['OPENAI_API_KEY'] = userdata.get('openAI')\n",
        "regulation_template = \"\"\"\n",
        "You are a social media expert, specialized in detecting innapropriate, harmful or dangerous proposal that can create innapropriate visual contents.\n",
        "You are going to evaluate a proposal for a video and here is how you are going to evaluate it.\n",
        "\n",
        "You have list of standards to judge whether given proposal is appropriate or not. The list also has examples of each standard.\n",
        "Based on the list you need to judge whether given proposal is appropriate or not.\n",
        "\n",
        "Since the given proposal is just a plan not a actual videos, it is okay for you to judge based on your assumption about the given proposal.\n",
        "\n",
        "Here is the list of standards.\n",
        "Matters concerning the description of the visual contents shall be confirmed by applying mutatis mutandis to the classification criteria of movies and videos and taking into account the overall context, but in particular, the following matters shall be noted. <Amendment 2012.7.31>\n",
        "1. Excessive description of the method, facial expression, sexual expression, excrement, etc. about sexual activity\n",
        "2. An inappropriate description of the hip, anastomosis, genital, pubic hair, or chest of men and women in detail or a direct and specific description of sexual behavior using the body or sexual instruments\n",
        "3. Describing sexual intercourse that is not acceptable by social norms (e.g., meditation, marriage, incest, sadism, sexual molestation, rape, etc.)\n",
        "4. Distorting sexual ethics, such as promoting sexual activity targeting juveniles or expressing human beings only as prostitution or sexual objects\n",
        "Article 11 (Violence)\n",
        "Matters concerning the violent description of visual contents shall be confirmed by applying mutatis mutandis to the classification criteria of movies and videos and taking into account the overall context, but the following matters shall be noted. <Amendment 2012.7.31>\n",
        "1. A specific description of a body damage scene or abandonment of a dead body (e.g., limb amputation, beheading, etc.)\n",
        "2. provocative descriptions or encouragement of scenes of cruel murder, assault, torture, etc\n",
        "3. To glorify or promote sexual violence, suicide, self-inflicted acts, or other physical or mental abuse\n",
        "4. John.Damage family ethics, including injury, assault and murder against profanity\n",
        "5. caricature, beautification, or detailed description of the methods of crime to encourage crime\n",
        "Article 12 (Anti-sociality)\n",
        "Matters concerning the description of antisociality of visual contents shall be confirmed by applying mutatis mutandis to the classification criteria of movies and videos and taking into account the overall context, but the following matters shall be noted. <Amendment 2012.7.31>\n",
        "1. Something that is likely to undermine sound values, such as gambling and the promotion of gambling\n",
        "2. Something that may distort historical facts or undermine the basic system of national and social existence and diplomatic relations between countries\n",
        "3. maliciously discriminating against or promoting prejudice against gender, religion, disability, age, social status, race, occupation, region, etc\n",
        "4. Promoting the use and production of harmful drugs, etc. by expressing the efficacy, manufacturing method, etc. of harmful drugs, etc. in detail\n",
        "5. Promoting youth employment and youth entry into harmful businesses for youth\n",
        "\n",
        "\n",
        "The given proposal is just a plan not a actual videos and it's in Korean.\n",
        "After your evaluation you only generate as follow:\n",
        "\n",
        "{{\n",
        "  \"appropriate\": \"true or false\"\n",
        "  \"category\": \"list of categories this propsal has been violating in Korean and if given proposal is true return empty list\"\n",
        "}}\n",
        "\n",
        "\n",
        "Here is the proposal.\n",
        "Proposal\n",
        "{proposal}\n",
        "\"\"\"\n",
        "def regulation_evaluation(proposal):\n",
        "  print(\"regulation check!\")\n",
        "  llm = ChatOpenAI(model='gpt-4o-mini', temperature=0.4)\n",
        "  prompt_template = ChatPromptTemplate.from_messages(\n",
        "    [(\"system\", regulation_template), (\"user\", \"{proposal}\")]\n",
        "  )\n",
        "  chain = prompt_template | llm | StrOutputParser()\n",
        "  return json.loads(chain.invoke({\"proposal\": proposal}))"
      ],
      "metadata": {
        "id": "syhwd8QZVaBh"
      },
      "execution_count": 56,
      "outputs": []
    },
    {
      "cell_type": "code",
      "source": [
        "result = regulation_evaluation(violated)\n",
        "print(result)"
      ],
      "metadata": {
        "colab": {
          "base_uri": "https://localhost:8080/"
        },
        "id": "LqFrAZ7mssLB",
        "outputId": "1a3a6daf-e8d4-4fa3-dd35-cd870bd82be2"
      },
      "execution_count": 57,
      "outputs": [
        {
          "output_type": "stream",
          "name": "stdout",
          "text": [
            "regulation check!\n",
            "{'appropriate': 'false', 'category': ['성적 표현에 대한 지나친 묘사', '부적절한 신체 부위의 묘사', '사회적 규범에 맞지 않는 성행위 묘사', '성적 윤리를 왜곡하는 내용']}\n"
          ]
        }
      ]
    },
    {
      "cell_type": "code",
      "source": [],
      "metadata": {
        "id": "7S3noaoiV7fK"
      },
      "execution_count": null,
      "outputs": []
    }
  ]
}