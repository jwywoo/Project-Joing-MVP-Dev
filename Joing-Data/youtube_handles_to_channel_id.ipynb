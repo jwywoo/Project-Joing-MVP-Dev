{
  "nbformat": 4,
  "nbformat_minor": 0,
  "metadata": {
    "colab": {
      "provenance": []
    },
    "kernelspec": {
      "name": "python3",
      "display_name": "Python 3"
    },
    "language_info": {
      "name": "python"
    }
  },
  "cells": [
    {
      "cell_type": "code",
      "execution_count": null,
      "metadata": {
        "colab": {
          "base_uri": "https://localhost:8080/"
        },
        "id": "22tk55y3ulI0",
        "outputId": "3c8b1ae0-fda2-4406-86cb-ead9256ed74f"
      },
      "outputs": [
        {
          "output_type": "stream",
          "name": "stdout",
          "text": [
            "Mounted at /content/drive\n"
          ]
        }
      ],
      "source": [
        "from google.colab import drive\n",
        "from google.colab import userdata\n",
        "drive.mount('/content/drive')"
      ]
    },
    {
      "cell_type": "code",
      "source": [
        "!pip install -qU pandas"
      ],
      "metadata": {
        "id": "fBwol3ufvatM",
        "colab": {
          "base_uri": "https://localhost:8080/"
        },
        "outputId": "d07a32f6-3fb3-4ad8-c2ca-35dd3e167575"
      },
      "execution_count": null,
      "outputs": [
        {
          "output_type": "stream",
          "name": "stdout",
          "text": [
            "\u001b[2K     \u001b[90m━━━━━━━━━━━━━━━━━━━━━━━━━━━━━━━━━━━━━━━━\u001b[0m \u001b[32m89.9/89.9 kB\u001b[0m \u001b[31m2.5 MB/s\u001b[0m eta \u001b[36m0:00:00\u001b[0m\n",
            "\u001b[2K   \u001b[90m━━━━━━━━━━━━━━━━━━━━━━━━━━━━━━━━━━━━━━━━\u001b[0m \u001b[32m13.1/13.1 MB\u001b[0m \u001b[31m83.1 MB/s\u001b[0m eta \u001b[36m0:00:00\u001b[0m\n",
            "\u001b[?25h\u001b[31mERROR: pip's dependency resolver does not currently take into account all the packages that are installed. This behaviour is the source of the following dependency conflicts.\n",
            "cudf-cu12 24.10.1 requires pandas<2.2.3dev0,>=2.0, but you have pandas 2.2.3 which is incompatible.\n",
            "google-colab 1.0.0 requires pandas==2.2.2, but you have pandas 2.2.3 which is incompatible.\u001b[0m\u001b[31m\n",
            "\u001b[0m"
          ]
        }
      ]
    },
    {
      "cell_type": "code",
      "source": [
        "import os\n",
        "\n",
        "CSVS_DIR_PATH = '/content/drive/MyDrive/CSVs/'\n",
        "YOUTUBE_HANDLES_DIR_PATH = os.path.join(CSVS_DIR_PATH,'Youtube_handles')\n",
        "AFTER_DIR_PATH = os.path.join(YOUTUBE_HANDLES_DIR_PATH,'after_preprocessing')"
      ],
      "metadata": {
        "id": "xi7XucMJvbKl"
      },
      "execution_count": null,
      "outputs": []
    },
    {
      "cell_type": "code",
      "source": [
        "import pandas as pd\n",
        "\n",
        "combined_df = pd.read_csv(os.path.join(AFTER_DIR_PATH,'combined_df_with_ids.csv'))"
      ],
      "metadata": {
        "id": "13y1x-uwvtN0"
      },
      "execution_count": null,
      "outputs": []
    },
    {
      "cell_type": "markdown",
      "source": [
        "## Test"
      ],
      "metadata": {
        "id": "QDrN_qWj1acc"
      }
    },
    {
      "cell_type": "code",
      "source": [
        "import requests\n",
        "youtube_handles = combined_df['youtube_handle'].unique()\n",
        "print(len(youtube_handles))\n",
        "test_handle = youtube_handles[0]\n",
        "test_handle = \"@xerath\"\n",
        "youtube_api_key = userdata.get('youtube_api_key_4')\n",
        "request_url = f\"https://www.googleapis.com/youtube/v3/search?part=snippet&q={test_handle}&type=channel&key={youtube_api_key}\"\n",
        "print(request_url)\n",
        "# response = requests.get(request_url)\n",
        "# response_json = response.json()\n",
        "# print(response_json['items'][0]['id']['channelId'])"
      ],
      "metadata": {
        "colab": {
          "base_uri": "https://localhost:8080/",
          "height": 358
        },
        "id": "i2amswez1aFN",
        "outputId": "183e04a4-f7c0-44fa-9efe-50c8182bb5ea"
      },
      "execution_count": null,
      "outputs": [
        {
          "output_type": "stream",
          "name": "stdout",
          "text": [
            "7729\n"
          ]
        },
        {
          "output_type": "error",
          "ename": "SecretNotFoundError",
          "evalue": "Secret youtube_api_key_4 does not exist.",
          "traceback": [
            "\u001b[0;31m---------------------------------------------------------------------------\u001b[0m",
            "\u001b[0;31mSecretNotFoundError\u001b[0m                       Traceback (most recent call last)",
            "\u001b[0;32m<ipython-input-5-3b0df59bd3ea>\u001b[0m in \u001b[0;36m<cell line: 6>\u001b[0;34m()\u001b[0m\n\u001b[1;32m      4\u001b[0m \u001b[0mtest_handle\u001b[0m \u001b[0;34m=\u001b[0m \u001b[0myoutube_handles\u001b[0m\u001b[0;34m[\u001b[0m\u001b[0;36m0\u001b[0m\u001b[0;34m]\u001b[0m\u001b[0;34m\u001b[0m\u001b[0;34m\u001b[0m\u001b[0m\n\u001b[1;32m      5\u001b[0m \u001b[0mtest_handle\u001b[0m \u001b[0;34m=\u001b[0m \u001b[0;34m\"@xerath\"\u001b[0m\u001b[0;34m\u001b[0m\u001b[0;34m\u001b[0m\u001b[0m\n\u001b[0;32m----> 6\u001b[0;31m \u001b[0myoutube_api_key\u001b[0m \u001b[0;34m=\u001b[0m \u001b[0muserdata\u001b[0m\u001b[0;34m.\u001b[0m\u001b[0mget\u001b[0m\u001b[0;34m(\u001b[0m\u001b[0;34m'youtube_api_key_4'\u001b[0m\u001b[0;34m)\u001b[0m\u001b[0;34m\u001b[0m\u001b[0;34m\u001b[0m\u001b[0m\n\u001b[0m\u001b[1;32m      7\u001b[0m \u001b[0mrequest_url\u001b[0m \u001b[0;34m=\u001b[0m \u001b[0;34mf\"https://www.googleapis.com/youtube/v3/search?part=snippet&q={test_handle}&type=channel&key={youtube_api_key}\"\u001b[0m\u001b[0;34m\u001b[0m\u001b[0;34m\u001b[0m\u001b[0m\n\u001b[1;32m      8\u001b[0m \u001b[0mprint\u001b[0m\u001b[0;34m(\u001b[0m\u001b[0mrequest_url\u001b[0m\u001b[0;34m)\u001b[0m\u001b[0;34m\u001b[0m\u001b[0;34m\u001b[0m\u001b[0m\n",
            "\u001b[0;32m/usr/local/lib/python3.10/dist-packages/google/colab/userdata.py\u001b[0m in \u001b[0;36mget\u001b[0;34m(key)\u001b[0m\n\u001b[1;32m     66\u001b[0m     \u001b[0;32mraise\u001b[0m \u001b[0mTimeoutException\u001b[0m\u001b[0;34m(\u001b[0m\u001b[0mkey\u001b[0m\u001b[0;34m)\u001b[0m\u001b[0;34m\u001b[0m\u001b[0;34m\u001b[0m\u001b[0m\n\u001b[1;32m     67\u001b[0m   \u001b[0;32mif\u001b[0m \u001b[0;32mnot\u001b[0m \u001b[0mresp\u001b[0m\u001b[0;34m.\u001b[0m\u001b[0mget\u001b[0m\u001b[0;34m(\u001b[0m\u001b[0;34m'exists'\u001b[0m\u001b[0;34m,\u001b[0m \u001b[0;32mFalse\u001b[0m\u001b[0;34m)\u001b[0m\u001b[0;34m:\u001b[0m\u001b[0;34m\u001b[0m\u001b[0;34m\u001b[0m\u001b[0m\n\u001b[0;32m---> 68\u001b[0;31m     \u001b[0;32mraise\u001b[0m \u001b[0mSecretNotFoundError\u001b[0m\u001b[0;34m(\u001b[0m\u001b[0mkey\u001b[0m\u001b[0;34m)\u001b[0m\u001b[0;34m\u001b[0m\u001b[0;34m\u001b[0m\u001b[0m\n\u001b[0m\u001b[1;32m     69\u001b[0m   \u001b[0;32mif\u001b[0m \u001b[0;32mnot\u001b[0m \u001b[0mresp\u001b[0m\u001b[0;34m.\u001b[0m\u001b[0mget\u001b[0m\u001b[0;34m(\u001b[0m\u001b[0;34m'access'\u001b[0m\u001b[0;34m,\u001b[0m \u001b[0;32mFalse\u001b[0m\u001b[0;34m)\u001b[0m\u001b[0;34m:\u001b[0m\u001b[0;34m\u001b[0m\u001b[0;34m\u001b[0m\u001b[0m\n\u001b[1;32m     70\u001b[0m     \u001b[0;32mraise\u001b[0m \u001b[0mNotebookAccessError\u001b[0m\u001b[0;34m(\u001b[0m\u001b[0mkey\u001b[0m\u001b[0;34m)\u001b[0m\u001b[0;34m\u001b[0m\u001b[0;34m\u001b[0m\u001b[0m\n",
            "\u001b[0;31mSecretNotFoundError\u001b[0m: Secret youtube_api_key_4 does not exist."
          ]
        }
      ]
    },
    {
      "cell_type": "markdown",
      "source": [
        "## Execution"
      ],
      "metadata": {
        "id": "ikmVK7BW1d_4"
      }
    },
    {
      "cell_type": "code",
      "source": [
        "def sending_request(handle, api):\n",
        "  request_url = f\"https://www.googleapis.com/youtube/v3/search?part=snippet&q={handle}&type=channel&key={api}\"\n",
        "  response = requests.get(request_url)\n",
        "  return response"
      ],
      "metadata": {
        "id": "sp1_twAHy6Bo"
      },
      "execution_count": null,
      "outputs": []
    },
    {
      "cell_type": "code",
      "source": [
        "def response_parsing(response_json):\n",
        "  try:\n",
        "    channel_id = response_json['items'][0]['id']['channelId']\n",
        "  except:\n",
        "    channel_id = None\n",
        "  return channel_id"
      ],
      "metadata": {
        "id": "Cg6BtKEBzQgQ"
      },
      "execution_count": null,
      "outputs": []
    },
    {
      "cell_type": "code",
      "source": [
        "def skip_gen(combined_df_csv, youtube_handle):\n",
        "  skipping_rows = []\n",
        "  for i in range(len(combined_df_csv)):\n",
        "    row = combined_df_csv.iloc[i]\n",
        "    if (row['channel_id'] is np.nan):\n",
        "      skipping_rows.append(i)\n",
        "    if (row['youtube_handle'] == youtube_handle):\n",
        "      break\n",
        "  return skipping_rows"
      ],
      "metadata": {
        "id": "mVsYXXxtuCjW"
      },
      "execution_count": null,
      "outputs": []
    },
    {
      "cell_type": "code",
      "source": [
        "import numpy as np\n",
        "\n",
        "update_needed = 0\n",
        "youtube_api_key = userdata.get(\"youtube_api_key_05\")\n",
        "\n",
        "combined_df = pd.read_csv(os.path.join(AFTER_DIR_PATH,'combined_df_with_ids.csv'))\n",
        "for i in range(len(combined_df)):\n",
        "  row = combined_df.iloc[i]\n",
        "  channel_id = row['channel_id']\n",
        "  if (channel_id is np.nan):\n",
        "    update_needed+=1\n",
        "\n",
        "print(\"Number of updates required: \",update_needed)"
      ],
      "metadata": {
        "colab": {
          "base_uri": "https://localhost:8080/"
        },
        "collapsed": true,
        "id": "N3Z_eI7og1Vd",
        "outputId": "2a47f675-4cbe-4ab8-f519-1696429c99f3"
      },
      "execution_count": null,
      "outputs": [
        {
          "output_type": "stream",
          "name": "stdout",
          "text": [
            "Number of updates required:  180\n"
          ]
        }
      ]
    },
    {
      "cell_type": "code",
      "source": [
        "skipping_rows = skip_gen(combined_df, \"@hanjincherry9996\")\n",
        "print(update_needed - len(skipping_rows))"
      ],
      "metadata": {
        "colab": {
          "base_uri": "https://localhost:8080/"
        },
        "id": "1JjgiydnuqTA",
        "outputId": "995eac0f-5e35-4a00-c356-06980647c7f9"
      },
      "execution_count": null,
      "outputs": [
        {
          "output_type": "stream",
          "name": "stdout",
          "text": [
            "84\n"
          ]
        }
      ]
    },
    {
      "cell_type": "code",
      "source": [
        "import requests\n",
        "updated_count = 0\n",
        "for i in range(len(combined_df)):\n",
        "  row = combined_df.iloc[i]\n",
        "  youtube_handle = row['youtube_handle']\n",
        "  category = row['category']\n",
        "  channel_id = row['channel_id']\n",
        "  if (channel_id is np.nan and i not in skipping_rows):\n",
        "    response = sending_request(youtube_handle, youtube_api_key)\n",
        "    new_channel_id = response_parsing(response.json())\n",
        "    combined_df.at[i, 'channel_id'] = new_channel_id\n",
        "    if (new_channel_id is not None):\n",
        "      updated_count+=1\n",
        "\n",
        "print(\"Total update: \",updated_count)\n",
        "print(\"Saving!\")\n",
        "combined_df.to_csv(os.path.join(AFTER_DIR_PATH,'combined_df_with_ids.csv'), index=False)"
      ],
      "metadata": {
        "colab": {
          "base_uri": "https://localhost:8080/"
        },
        "id": "lUduJD7slqzU",
        "outputId": "9e376bd7-9a25-47e0-cea2-8bfbbbf6f7cb"
      },
      "execution_count": null,
      "outputs": [
        {
          "output_type": "stream",
          "name": "stdout",
          "text": [
            "Total update:  0\n",
            "Saving!\n"
          ]
        }
      ]
    },
    {
      "cell_type": "code",
      "source": [],
      "metadata": {
        "id": "1aEzdl_t-Xrz"
      },
      "execution_count": null,
      "outputs": []
    }
  ]
}