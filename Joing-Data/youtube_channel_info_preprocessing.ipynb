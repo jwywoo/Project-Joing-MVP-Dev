{
  "nbformat": 4,
  "nbformat_minor": 0,
  "metadata": {
    "colab": {
      "provenance": []
    },
    "kernelspec": {
      "name": "python3",
      "display_name": "Python 3"
    },
    "language_info": {
      "name": "python"
    }
  },
  "cells": [
    {
      "cell_type": "markdown",
      "source": [
        "## Imports"
      ],
      "metadata": {
        "id": "nef4qIUj76G-"
      }
    },
    {
      "cell_type": "code",
      "execution_count": null,
      "metadata": {
        "id": "G8m8UGy1GHk8",
        "colab": {
          "base_uri": "https://localhost:8080/"
        },
        "outputId": "69f82d2c-8952-4873-bb46-1f7adf4c2f7f"
      },
      "outputs": [
        {
          "output_type": "stream",
          "name": "stdout",
          "text": [
            "Drive already mounted at /content/drive; to attempt to forcibly remount, call drive.mount(\"/content/drive\", force_remount=True).\n"
          ]
        }
      ],
      "source": [
        "from google.colab import drive\n",
        "from google.colab import userdata\n",
        "drive.mount('/content/drive')"
      ]
    },
    {
      "cell_type": "markdown",
      "source": [
        "## Installation"
      ],
      "metadata": {
        "id": "knOh73sG78wo"
      }
    },
    {
      "cell_type": "code",
      "source": [
        "!pip install -qU pandas"
      ],
      "metadata": {
        "id": "XkjHEC1R71Ry"
      },
      "execution_count": null,
      "outputs": []
    },
    {
      "cell_type": "markdown",
      "source": [
        "## Data loading"
      ],
      "metadata": {
        "id": "TinLXXri85_e"
      }
    },
    {
      "cell_type": "code",
      "source": [
        "import os\n",
        "import pandas as pd\n",
        "import numpy as np\n",
        "\n",
        "CSVS_DIR_PATH = '/content/drive/MyDrive/CSVs/'\n",
        "YOUTUBE_HANDLES_DIR_PATH = os.path.join(CSVS_DIR_PATH,'Youtube_handles')\n",
        "AFTER_DIR_PATH = os.path.join(YOUTUBE_HANDLES_DIR_PATH,'after_preprocessing')\n",
        "SHEETS_DIR_PATH = os.path.join(AFTER_DIR_PATH, 'sheets')\n",
        "\n",
        "combined_df_ids = pd.read_csv(os.path.join(AFTER_DIR_PATH,'combined_df_with_ids.csv'))\n",
        "filtered_df_path = os.path.join(AFTER_DIR_PATH,'youtube_handles_ids.csv')\n",
        "\n",
        "\n",
        "# print(os.listdir(AFTER_DIR_PATH))\n",
        "rec_csv = pd.read_csv(os.path.join(AFTER_DIR_PATH,'channel_info_rec.csv'))"
      ],
      "metadata": {
        "id": "nqbv2Qvf8786"
      },
      "execution_count": null,
      "outputs": []
    },
    {
      "cell_type": "markdown",
      "source": [
        "## Filtering Youtoube channels with ID and handle"
      ],
      "metadata": {
        "id": "ysk92NS27_EP"
      }
    },
    {
      "cell_type": "code",
      "source": [
        "filtered_df_with_ids = combined_df_ids[combined_df_ids['channel_id'].notna()]\n",
        "filtered_df_with_no_ids = combined_df_ids[combined_df_ids['channel_id'].isna()]\n",
        "print(\"Number of rows with id: \", len(filtered_df_with_ids))\n",
        "print(\"Number of rows with no id: \", len(filtered_df_with_no_ids))\n",
        "print(\"Got to be 7729\", len(filtered_df_with_ids)+len(filtered_df_with_no_ids))"
      ],
      "metadata": {
        "colab": {
          "base_uri": "https://localhost:8080/"
        },
        "id": "HC1WFf2s8IKO",
        "outputId": "fa69a03c-c642-41ff-efd7-ae2f14bedd1e"
      },
      "execution_count": null,
      "outputs": [
        {
          "output_type": "stream",
          "name": "stdout",
          "text": [
            "Number of rows with id:  7549\n",
            "Number of rows with no id:  180\n",
            "Got to be 7729 7729\n"
          ]
        }
      ]
    },
    {
      "cell_type": "code",
      "source": [
        "filtered_df_with_ids.to_csv(filtered_df_path, index=False)"
      ],
      "metadata": {
        "id": "UGBrvhiyDMOg"
      },
      "execution_count": null,
      "outputs": []
    },
    {
      "cell_type": "markdown",
      "source": [
        "## Merging Youtube Channel & Category"
      ],
      "metadata": {
        "id": "Q2vy9V558Ik7"
      }
    },
    {
      "cell_type": "code",
      "source": [
        "merged_info_category = pd.merge(filtered_df_with_ids, rec_csv, on='channel_id')\n",
        "merged_info_category = merged_info_category.drop(columns=['category_y'])\n",
        "merged_info_category = merged_info_category.rename(columns={'category_x': 'category'})\n",
        "print(\"Number of rows: \", len(merged_info_category))"
      ],
      "metadata": {
        "colab": {
          "base_uri": "https://localhost:8080/"
        },
        "id": "LRrsHOfQfLYz",
        "outputId": "0ad5403f-cb75-435a-db29-13de4395b396"
      },
      "execution_count": null,
      "outputs": [
        {
          "output_type": "stream",
          "name": "stdout",
          "text": [
            "Number of rows:  7563\n"
          ]
        }
      ]
    },
    {
      "cell_type": "code",
      "source": [
        "merged_info_category.to_csv(os.path.join(AFTER_DIR_PATH,'merged_info_category.csv'), index=False)"
      ],
      "metadata": {
        "id": "mhKZkrjdf3Xw"
      },
      "execution_count": null,
      "outputs": []
    }
  ]
}