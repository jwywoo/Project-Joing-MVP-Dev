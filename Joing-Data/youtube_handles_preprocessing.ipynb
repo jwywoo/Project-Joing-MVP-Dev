{
  "nbformat": 4,
  "nbformat_minor": 0,
  "metadata": {
    "colab": {
      "provenance": []
    },
    "kernelspec": {
      "name": "python3",
      "display_name": "Python 3"
    },
    "language_info": {
      "name": "python"
    }
  },
  "cells": [
    {
      "cell_type": "markdown",
      "source": [
        "## Colab Google Imports"
      ],
      "metadata": {
        "id": "GNj2jUv8FYxP"
      }
    },
    {
      "cell_type": "code",
      "execution_count": null,
      "metadata": {
        "colab": {
          "base_uri": "https://localhost:8080/"
        },
        "id": "-KmbkMoVE8BK",
        "outputId": "09a71779-b42f-41ea-db03-42d6c551ae56"
      },
      "outputs": [
        {
          "output_type": "stream",
          "name": "stdout",
          "text": [
            "Mounted at /content/drive\n"
          ]
        }
      ],
      "source": [
        "from google.colab import drive\n",
        "from google.colab import userdata\n",
        "drive.mount('/content/drive')"
      ]
    },
    {
      "cell_type": "markdown",
      "source": [
        "## Installation"
      ],
      "metadata": {
        "id": "e_xH1LIgJiQo"
      }
    },
    {
      "cell_type": "code",
      "source": [
        "!pip install -qU pandas"
      ],
      "metadata": {
        "id": "Pds5xMJHJkZE",
        "colab": {
          "base_uri": "https://localhost:8080/"
        },
        "outputId": "60d8f232-afca-4f56-9897-faa02fde4d37"
      },
      "execution_count": null,
      "outputs": [
        {
          "output_type": "stream",
          "name": "stdout",
          "text": [
            "\u001b[2K     \u001b[90m━━━━━━━━━━━━━━━━━━━━━━━━━━━━━━━━━━━━━━━━\u001b[0m \u001b[32m89.9/89.9 kB\u001b[0m \u001b[31m2.7 MB/s\u001b[0m eta \u001b[36m0:00:00\u001b[0m\n",
            "\u001b[2K   \u001b[90m━━━━━━━━━━━━━━━━━━━━━━━━━━━━━━━━━━━━━━━━\u001b[0m \u001b[32m13.1/13.1 MB\u001b[0m \u001b[31m60.5 MB/s\u001b[0m eta \u001b[36m0:00:00\u001b[0m\n",
            "\u001b[?25h\u001b[31mERROR: pip's dependency resolver does not currently take into account all the packages that are installed. This behaviour is the source of the following dependency conflicts.\n",
            "cudf-cu12 24.10.1 requires pandas<2.2.3dev0,>=2.0, but you have pandas 2.2.3 which is incompatible.\n",
            "google-colab 1.0.0 requires pandas==2.2.2, but you have pandas 2.2.3 which is incompatible.\u001b[0m\u001b[31m\n",
            "\u001b[0m"
          ]
        }
      ]
    },
    {
      "cell_type": "markdown",
      "source": [
        "## Data loads"
      ],
      "metadata": {
        "id": "wpAZsBU9Jljv"
      }
    },
    {
      "cell_type": "code",
      "source": [
        "import os\n",
        "\n",
        "CSVS_DIR_PATH = '/content/drive/MyDrive/CSVs/'\n",
        "YOUTUBE_HANDLES_DIR_PATH = os.path.join(CSVS_DIR_PATH,'Youtube_handles')\n",
        "BEFORE_DIR_PATH = os.path.join(YOUTUBE_HANDLES_DIR_PATH,'before_preprocessing')\n",
        "AFTER_DIR_PATH = os.path.join(YOUTUBE_HANDLES_DIR_PATH,'after_preprocessing')"
      ],
      "metadata": {
        "id": "5gUIRBThHiXS"
      },
      "execution_count": null,
      "outputs": []
    },
    {
      "cell_type": "markdown",
      "source": [
        "## Duplication Check"
      ],
      "metadata": {
        "id": "3dB7dlrFF3qe"
      }
    },
    {
      "cell_type": "code",
      "source": [
        "import pandas as pd\n",
        "\n",
        "def duplication_check(file_path):\n",
        "  df = pd.read_csv(file_path)\n",
        "  print(\"Before the drop: \", len(df))\n",
        "  duplicated_removed = df.drop_duplicates()\n",
        "  print(\"Before the drop\", len(duplicated_removed))\n",
        "  return df if (len(df) == len(duplicated_removed)) else duplicated_removed"
      ],
      "metadata": {
        "id": "pPbING4-F8U9"
      },
      "execution_count": null,
      "outputs": []
    },
    {
      "cell_type": "markdown",
      "source": [
        "## Data Merge\n",
        "- Columns\n",
        "  - category\n",
        "  - youtube_handles"
      ],
      "metadata": {
        "id": "7u8T5mhcF9D7"
      }
    },
    {
      "cell_type": "code",
      "source": [
        "def csv_merge(dir_path):\n",
        "  files = os.listdir(dir_path)\n",
        "  combined_df = pd.DataFrame(columns=['category','youtube_handle'])\n",
        "  for file in files:\n",
        "    file_path = os.path.join(dir_path,file)\n",
        "    df = duplication_check(file_path)\n",
        "    df['category'] = file.split('.')[0]\n",
        "    df = df.rename(columns={'Youtube handles': 'youtube_handle'})\n",
        "    combined_df = pd.concat([combined_df, df], ignore_index=True)\n",
        "  return combined_df\n",
        "\n",
        "combined_df = csv_merge(BEFORE_DIR_PATH)"
      ],
      "metadata": {
        "colab": {
          "base_uri": "https://localhost:8080/"
        },
        "collapsed": true,
        "id": "uXdXu_FpGHma",
        "outputId": "b78aab10-e21b-4427-ea15-cf54560eeca6"
      },
      "execution_count": null,
      "outputs": [
        {
          "output_type": "stream",
          "name": "stdout",
          "text": [
            "/content/drive/MyDrive/CSVs/Youtube_handles/before_preprocessing/game.csv\n",
            "Before the drop:  451\n",
            "Before the drop 400\n",
            "/content/drive/MyDrive/CSVs/Youtube_handles/before_preprocessing/unknown.csv\n",
            "Before the drop:  160\n",
            "Before the drop 160\n",
            "/content/drive/MyDrive/CSVs/Youtube_handles/before_preprocessing/news.csv\n",
            "Before the drop:  400\n",
            "Before the drop 400\n",
            "/content/drive/MyDrive/CSVs/Youtube_handles/before_preprocessing/travel.csv\n",
            "Before the drop:  400\n",
            "Before the drop 400\n",
            "/content/drive/MyDrive/CSVs/Youtube_handles/before_preprocessing/pet.csv\n",
            "Before the drop:  400\n",
            "Before the drop 400\n",
            "/content/drive/MyDrive/CSVs/Youtube_handles/before_preprocessing/sports_health.csv\n",
            "Before the drop:  400\n",
            "Before the drop 400\n",
            "/content/drive/MyDrive/CSVs/Youtube_handles/before_preprocessing/tech.csv\n",
            "Before the drop:  400\n",
            "Before the drop 400\n",
            "/content/drive/MyDrive/CSVs/Youtube_handles/before_preprocessing/music.csv\n",
            "Before the drop:  4223\n",
            "Before the drop 390\n",
            "/content/drive/MyDrive/CSVs/Youtube_handles/before_preprocessing/kids.csv\n",
            "Before the drop:  400\n",
            "Before the drop 399\n",
            "/content/drive/MyDrive/CSVs/Youtube_handles/before_preprocessing/life_style.csv\n",
            "Before the drop:  4251\n",
            "Before the drop 386\n",
            "/content/drive/MyDrive/CSVs/Youtube_handles/before_preprocessing/movie.csv\n",
            "Before the drop:  466\n",
            "Before the drop 400\n",
            "/content/drive/MyDrive/CSVs/Youtube_handles/before_preprocessing/hobbies.csv\n",
            "Before the drop:  400\n",
            "Before the drop 399\n",
            "/content/drive/MyDrive/CSVs/Youtube_handles/before_preprocessing/government.csv\n",
            "Before the drop:  402\n",
            "Before the drop 400\n",
            "/content/drive/MyDrive/CSVs/Youtube_handles/before_preprocessing/celeb.csv\n",
            "Before the drop:  400\n",
            "Before the drop 400\n",
            "/content/drive/MyDrive/CSVs/Youtube_handles/before_preprocessing/car_auto.csv\n",
            "Before the drop:  400\n",
            "Before the drop 400\n",
            "/content/drive/MyDrive/CSVs/Youtube_handles/before_preprocessing/economy.csv\n",
            "Before the drop:  400\n",
            "Before the drop 400\n",
            "/content/drive/MyDrive/CSVs/Youtube_handles/before_preprocessing/beauty.csv\n",
            "Before the drop:  401\n",
            "Before the drop 400\n",
            "/content/drive/MyDrive/CSVs/Youtube_handles/before_preprocessing/education.csv\n",
            "Before the drop:  400\n",
            "Before the drop 400\n",
            "/content/drive/MyDrive/CSVs/Youtube_handles/before_preprocessing/entertainment.csv\n",
            "Before the drop:  400\n",
            "Before the drop 400\n",
            "/content/drive/MyDrive/CSVs/Youtube_handles/before_preprocessing/food_cooking.csv\n",
            "Before the drop:  400\n",
            "Before the drop 400\n"
          ]
        }
      ]
    },
    {
      "cell_type": "code",
      "source": [
        "print(combined_df.head())\n",
        "print(combined_df.tail())\n",
        "\n",
        "saving_path = os.path.join(AFTER_DIR_PATH,'combined_df.csv')\n",
        "print(saving_path)\n",
        "combined_df.to_csv(saving_path, index=False)"
      ],
      "metadata": {
        "colab": {
          "base_uri": "https://localhost:8080/"
        },
        "id": "oZuTixf3uz04",
        "outputId": "2e16c45b-b7ba-4488-8e1b-f8a54c7aa847"
      },
      "execution_count": null,
      "outputs": [
        {
          "output_type": "stream",
          "name": "stdout",
          "text": [
            "  category   youtube_handle\n",
            "0     game        @bokyemtv\n",
            "1     game  @minipangtv_kor\n",
            "2     game      @alienbeing\n",
            "3     game          @sswabi\n",
            "4     game      @luckykangi\n",
            "          category           youtube_handle\n",
            "7729  food_cooking                 @ceojung\n",
            "7730  food_cooking              @junsbistro\n",
            "7731  food_cooking         @thosesweetwords\n",
            "7732  food_cooking  @slick_slime_sam_korean\n",
            "7733  food_cooking            @liwoo_foodie\n",
            "/content/drive/MyDrive/CSVs/Youtube_handles/after_preprocessing/combined_df.csv\n"
          ]
        }
      ]
    },
    {
      "cell_type": "code",
      "source": [
        "saving_by_cateogry = os.path.join(AFTER_DIR_PATH,'by_category')\n",
        "\n",
        "files = os.listdir(BEFORE_DIR_PATH)\n",
        "\n",
        "for file in files:\n",
        "  file_path = os.path.join(BEFORE_DIR_PATH,file)\n",
        "  df = duplication_check(file_path)\n",
        "  df['category'] = file.split('.')[0]\n",
        "  df = df.rename(columns={'Youtube handles': 'youtube_handle'})\n",
        "  saving_path = os.path.join(saving_by_cateogry,file)\n",
        "  df.to_csv(saving_path, index=False)"
      ],
      "metadata": {
        "colab": {
          "base_uri": "https://localhost:8080/"
        },
        "id": "-MVizDrpytJQ",
        "outputId": "9296a57f-8f1a-4f64-9631-1ad5c7f26b1c"
      },
      "execution_count": null,
      "outputs": [
        {
          "output_type": "stream",
          "name": "stdout",
          "text": [
            "/content/drive/MyDrive/CSVs/Youtube_handles/before_preprocessing/game.csv\n",
            "Before the drop:  451\n",
            "Before the drop 400\n",
            "/content/drive/MyDrive/CSVs/Youtube_handles/before_preprocessing/unknown.csv\n",
            "Before the drop:  160\n",
            "Before the drop 160\n",
            "/content/drive/MyDrive/CSVs/Youtube_handles/before_preprocessing/news.csv\n",
            "Before the drop:  400\n",
            "Before the drop 400\n",
            "/content/drive/MyDrive/CSVs/Youtube_handles/before_preprocessing/travel.csv\n",
            "Before the drop:  400\n",
            "Before the drop 400\n",
            "/content/drive/MyDrive/CSVs/Youtube_handles/before_preprocessing/pet.csv\n",
            "Before the drop:  400\n",
            "Before the drop 400\n",
            "/content/drive/MyDrive/CSVs/Youtube_handles/before_preprocessing/sports_health.csv\n",
            "Before the drop:  400\n",
            "Before the drop 400\n",
            "/content/drive/MyDrive/CSVs/Youtube_handles/before_preprocessing/tech.csv\n",
            "Before the drop:  400\n",
            "Before the drop 400\n",
            "/content/drive/MyDrive/CSVs/Youtube_handles/before_preprocessing/music.csv\n",
            "Before the drop:  4223\n",
            "Before the drop 390\n",
            "/content/drive/MyDrive/CSVs/Youtube_handles/before_preprocessing/kids.csv\n",
            "Before the drop:  400\n",
            "Before the drop 399\n",
            "/content/drive/MyDrive/CSVs/Youtube_handles/before_preprocessing/life_style.csv\n",
            "Before the drop:  4251\n",
            "Before the drop 386\n",
            "/content/drive/MyDrive/CSVs/Youtube_handles/before_preprocessing/movie.csv\n",
            "Before the drop:  466\n",
            "Before the drop 400\n",
            "/content/drive/MyDrive/CSVs/Youtube_handles/before_preprocessing/hobbies.csv\n",
            "Before the drop:  400\n",
            "Before the drop 399\n",
            "/content/drive/MyDrive/CSVs/Youtube_handles/before_preprocessing/government.csv\n",
            "Before the drop:  402\n",
            "Before the drop 400\n",
            "/content/drive/MyDrive/CSVs/Youtube_handles/before_preprocessing/celeb.csv\n",
            "Before the drop:  400\n",
            "Before the drop 400\n",
            "/content/drive/MyDrive/CSVs/Youtube_handles/before_preprocessing/car_auto.csv\n",
            "Before the drop:  400\n",
            "Before the drop 400\n",
            "/content/drive/MyDrive/CSVs/Youtube_handles/before_preprocessing/economy.csv\n",
            "Before the drop:  400\n",
            "Before the drop 400\n",
            "/content/drive/MyDrive/CSVs/Youtube_handles/before_preprocessing/beauty.csv\n",
            "Before the drop:  401\n",
            "Before the drop 400\n",
            "/content/drive/MyDrive/CSVs/Youtube_handles/before_preprocessing/education.csv\n",
            "Before the drop:  400\n",
            "Before the drop 400\n",
            "/content/drive/MyDrive/CSVs/Youtube_handles/before_preprocessing/entertainment.csv\n",
            "Before the drop:  400\n",
            "Before the drop 400\n",
            "/content/drive/MyDrive/CSVs/Youtube_handles/before_preprocessing/food_cooking.csv\n",
            "Before the drop:  400\n",
            "Before the drop 400\n"
          ]
        }
      ]
    }
  ]
}